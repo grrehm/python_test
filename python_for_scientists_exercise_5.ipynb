{
 "cells": [
  {
   "cell_type": "markdown",
   "metadata": {},
   "source": [
    "# Exercises - lecture 5"
   ]
  },
  {
   "cell_type": "code",
   "execution_count": 1,
   "metadata": {
    "ExecuteTime": {
     "end_time": "2021-12-21T16:07:14.257347Z",
     "start_time": "2021-12-21T16:07:13.628336Z"
    }
   },
   "outputs": [],
   "source": [
    "import numpy as np\n",
    "import scipy as sp\n",
    "import matplotlib.pyplot as plt\n",
    "import scipy.ndimage\n",
    "from vega_datasets import data\n",
    "import matplotlib\n",
    "import pandas as pd\n",
    "import os\n",
    "import subprocess\n",
    "from dask.distributed import Client, progress"
   ]
  },
  {
   "cell_type": "code",
   "execution_count": null,
   "metadata": {
    "ExecuteTime": {
     "end_time": "2021-03-29T08:59:46.640188Z",
     "start_time": "2021-03-29T08:59:46.634998Z"
    }
   },
   "outputs": [],
   "source": [
    "figsizesmall = (8,6)\n",
    "figuresize = (10,6)\n",
    "figsizelarge = (15,10)"
   ]
  },
  {
   "cell_type": "markdown",
   "metadata": {},
   "source": [
    "## GIT"
   ]
  },
  {
   "cell_type": "markdown",
   "metadata": {},
   "source": [
    "### Create an account on Github\n",
    "\n",
    "Done"
   ]
  },
  {
   "cell_type": "markdown",
   "metadata": {},
   "source": [
    "### Create a project and add this notebook and your solutions file to it\n",
    "\n",
    "Done"
   ]
  },
  {
   "cell_type": "markdown",
   "metadata": {},
   "source": [
    "### As you solve the exercises, use commits whenever you have solved part of an exercise (or even more often if you want to)\n",
    "\n",
    "Will create first commit now"
   ]
  },
  {
   "cell_type": "markdown",
   "metadata": {},
   "source": [
    "## File creation"
   ]
  },
  {
   "cell_type": "markdown",
   "metadata": {},
   "source": [
    "### Create a Folder out of Python \"file_creation_tryout\""
   ]
  },
  {
   "cell_type": "code",
   "execution_count": null,
   "metadata": {
    "ExecuteTime": {
     "end_time": "2021-12-21T14:29:47.060026Z",
     "start_time": "2021-12-21T14:29:47.054015Z"
    }
   },
   "outputs": [],
   "source": [
    "dirname='file_creation_tryout/'\n",
    "if not os.path.exists(dirname):\n",
    "    os.mkdir(dirname)"
   ]
  },
  {
   "cell_type": "markdown",
   "metadata": {},
   "source": [
    "### Create a python script (.py) that prints \"Hello World\""
   ]
  },
  {
   "cell_type": "code",
   "execution_count": null,
   "metadata": {
    "ExecuteTime": {
     "end_time": "2021-12-21T14:30:05.075519Z",
     "start_time": "2021-12-21T14:30:05.070501Z"
    }
   },
   "outputs": [],
   "source": [
    "simplepython=\"\"\"\n",
    "print('Hello World!')\n",
    "\"\"\"\n",
    "filename=dirname+'hello_world.py'\n",
    "with open(filename,'w') as file:\n",
    "    file.write(simplepython)"
   ]
  },
  {
   "cell_type": "markdown",
   "metadata": {},
   "source": [
    "### Bonus: Call your Hello world python script from Jupyter notebook\n",
    "There are three ways:\n",
    "1) The one shown in the lecture that creates a bash script that then calls the Python script only works in Linux\n",
    "\n",
    "2) Using the os library you can do it platform independent: os.system(\"python \" + FILENAME_OF_YOUR_SCRIPT)\n",
    "\n",
    "3) Using the subprocess library you can also do it platform independent: subprocess.call(\"python \" + FILENAME_OF_YOUR_SCRIPT, shell=True)\n",
    "\n",
    "If you are using Windows and run Jupyter from Anaconda prompt you will see the output \"Hello World\" in the Anaconda prompt"
   ]
  },
  {
   "cell_type": "code",
   "execution_count": null,
   "metadata": {
    "ExecuteTime": {
     "end_time": "2021-12-21T14:31:50.577020Z",
     "start_time": "2021-12-21T14:31:50.513151Z"
    }
   },
   "outputs": [],
   "source": [
    "os.system('python >'+dirname+'output.txt '+filename)"
   ]
  },
  {
   "cell_type": "code",
   "execution_count": null,
   "metadata": {
    "ExecuteTime": {
     "end_time": "2021-12-21T14:31:52.942560Z",
     "start_time": "2021-12-21T14:31:52.878630Z"
    }
   },
   "outputs": [],
   "source": [
    "subprocess.call('python >'+dirname+'output2.txt '+filename, shell=True)"
   ]
  },
  {
   "cell_type": "markdown",
   "metadata": {},
   "source": [
    "## Generators"
   ]
  },
  {
   "cell_type": "markdown",
   "metadata": {},
   "source": [
    "### Create a generator function that yields a counter that counts how often the generator function has been called"
   ]
  },
  {
   "cell_type": "code",
   "execution_count": null,
   "metadata": {
    "ExecuteTime": {
     "end_time": "2021-12-21T14:45:16.918832Z",
     "start_time": "2021-12-21T14:45:16.913850Z"
    }
   },
   "outputs": [],
   "source": [
    "def my_counter_gen():\n",
    "    count=0\n",
    "    while True:\n",
    "        count+=1\n",
    "        yield(count)\n",
    "    "
   ]
  },
  {
   "cell_type": "code",
   "execution_count": null,
   "metadata": {
    "ExecuteTime": {
     "end_time": "2021-12-21T14:45:18.289707Z",
     "start_time": "2021-12-21T14:45:18.284724Z"
    }
   },
   "outputs": [],
   "source": [
    "my_counter=my_counter_gen()"
   ]
  },
  {
   "cell_type": "code",
   "execution_count": null,
   "metadata": {
    "ExecuteTime": {
     "end_time": "2021-12-21T14:46:23.342348Z",
     "start_time": "2021-12-21T14:46:23.335372Z"
    }
   },
   "outputs": [],
   "source": [
    "next(my_counter)"
   ]
  },
  {
   "cell_type": "markdown",
   "metadata": {},
   "source": [
    "### Bonus: Create a generator function that alternates between yielding a random number and yielding 0. (A Generator function can have multiple yield statements)"
   ]
  },
  {
   "cell_type": "code",
   "execution_count": null,
   "metadata": {
    "ExecuteTime": {
     "end_time": "2021-12-21T14:52:33.472702Z",
     "start_time": "2021-12-21T14:52:33.465724Z"
    }
   },
   "outputs": [],
   "source": [
    "def my_alternate_gen():\n",
    "    this_that=True\n",
    "    while True:\n",
    "        if this_that==True:\n",
    "            this_that=False\n",
    "            output=np.random.randn()\n",
    "        else:\n",
    "            this_that=True\n",
    "            output=0\n",
    "        yield(output)\n",
    "    "
   ]
  },
  {
   "cell_type": "code",
   "execution_count": null,
   "metadata": {
    "ExecuteTime": {
     "end_time": "2021-12-21T14:52:35.152771Z",
     "start_time": "2021-12-21T14:52:35.148786Z"
    }
   },
   "outputs": [],
   "source": [
    "alternator=my_alternate_gen()"
   ]
  },
  {
   "cell_type": "code",
   "execution_count": null,
   "metadata": {
    "ExecuteTime": {
     "end_time": "2021-12-21T14:52:42.298342Z",
     "start_time": "2021-12-21T14:52:42.292361Z"
    }
   },
   "outputs": [],
   "source": [
    "next(alternator)"
   ]
  },
  {
   "cell_type": "markdown",
   "metadata": {},
   "source": [
    "## Parallelization\n",
    "Ideally, try to parallelize one of your own production python scripts and measure how much faster it gets by parallelizing.\n",
    "If you do not have any script that takes long do the following exercises:"
   ]
  },
  {
   "cell_type": "code",
   "execution_count": 2,
   "metadata": {
    "ExecuteTime": {
     "end_time": "2021-12-21T16:07:20.181216Z",
     "start_time": "2021-12-21T16:07:20.176232Z"
    }
   },
   "outputs": [],
   "source": [
    "def mandel(z,max_count):\n",
    "    z0=0;\n",
    "    count=0;\n",
    "    while (abs(z0)<2) and (count<max_count):\n",
    "        z0=z0**2-z\n",
    "        count+=1\n",
    "    return count"
   ]
  },
  {
   "cell_type": "code",
   "execution_count": null,
   "metadata": {
    "ExecuteTime": {
     "end_time": "2021-12-21T16:05:33.533559Z",
     "start_time": "2021-12-21T16:05:09.819163Z"
    }
   },
   "outputs": [],
   "source": [
    "size=1000\n",
    "x=np.linspace(-.5,2,size)\n",
    "y=np.linspace(-1.25,1.25,size)\n",
    "m=np.zeros([size,size])\n",
    "xc=0\n",
    "for xp in x:\n",
    "    yc=0\n",
    "    for yp in y:\n",
    "        m[yc,xc]=mandel(xp+1j*yp,100)\n",
    "        yc+=1\n",
    "    xc+=1\n",
    "plt.figure(figsize=(20,20))\n",
    "plt.imshow(m)"
   ]
  },
  {
   "cell_type": "markdown",
   "metadata": {},
   "source": [
    "### Repeat the exercise from the lecture script section 4.4 comparing the speed of numpy with dask array using 1 processor (no parallelization), 2,4,8 and 16 processors (should you have as much) and plot the speeds vs the number of processors used. (This is called a strong scaling test)"
   ]
  },
  {
   "cell_type": "code",
   "execution_count": 3,
   "metadata": {
    "ExecuteTime": {
     "end_time": "2021-12-21T16:07:25.459177Z",
     "start_time": "2021-12-21T16:07:25.148854Z"
    }
   },
   "outputs": [
    {
     "data": {
      "text/html": [
       "<table style=\"border: 2px solid white;\">\n",
       "<tr>\n",
       "<td style=\"vertical-align: top; border: 0px solid white\">\n",
       "<h3 style=\"text-align: left;\">Client</h3>\n",
       "<ul style=\"text-align: left; list-style: none; margin: 0; padding: 0;\">\n",
       "  <li><b>Scheduler: </b>inproc://192.168.178.39/12584/1</li>\n",
       "  <li><b>Dashboard: </b><a href='http://192.168.178.39:8787/status' target='_blank'>http://192.168.178.39:8787/status</a></li>\n",
       "</ul>\n",
       "</td>\n",
       "<td style=\"vertical-align: top; border: 0px solid white\">\n",
       "<h3 style=\"text-align: left;\">Cluster</h3>\n",
       "<ul style=\"text-align: left; list-style:none; margin: 0; padding: 0;\">\n",
       "  <li><b>Workers: </b>1</li>\n",
       "  <li><b>Cores: </b>8</li>\n",
       "  <li><b>Memory: </b>8.00 GB</li>\n",
       "</ul>\n",
       "</td>\n",
       "</tr>\n",
       "</table>"
      ],
      "text/plain": [
       "<Client: 'inproc://192.168.178.39/12584/1' processes=1 threads=8, memory=8.00 GB>"
      ]
     },
     "execution_count": 3,
     "metadata": {},
     "output_type": "execute_result"
    }
   ],
   "source": [
    "client = Client(threads_per_worker=8, processes=False, \n",
    "                n_workers=1, memory_limit='8GB')\n",
    "client"
   ]
  },
  {
   "cell_type": "markdown",
   "metadata": {},
   "source": [
    "## GIT (again)"
   ]
  },
  {
   "cell_type": "markdown",
   "metadata": {},
   "source": [
    "### Check your git history (either on Github or with git log) for the exercises. What do you notice?"
   ]
  }
 ],
 "metadata": {
  "kernelspec": {
   "display_name": "Python 3",
   "language": "python",
   "name": "python3"
  },
  "language_info": {
   "codemirror_mode": {
    "name": "ipython",
    "version": 3
   },
   "file_extension": ".py",
   "mimetype": "text/x-python",
   "name": "python",
   "nbconvert_exporter": "python",
   "pygments_lexer": "ipython3",
   "version": "3.8.5"
  },
  "toc": {
   "base_numbering": 1,
   "nav_menu": {},
   "number_sections": true,
   "sideBar": true,
   "skip_h1_title": true,
   "title_cell": "Table of Contents",
   "title_sidebar": "Contents",
   "toc_cell": false,
   "toc_position": {
    "height": "calc(100% - 180px)",
    "left": "10px",
    "top": "150px",
    "width": "304.6px"
   },
   "toc_section_display": true,
   "toc_window_display": true
  },
  "varInspector": {
   "cols": {
    "lenName": 16,
    "lenType": 16,
    "lenVar": 40
   },
   "kernels_config": {
    "python": {
     "delete_cmd_postfix": "",
     "delete_cmd_prefix": "del ",
     "library": "var_list.py",
     "varRefreshCmd": "print(var_dic_list())"
    },
    "r": {
     "delete_cmd_postfix": ") ",
     "delete_cmd_prefix": "rm(",
     "library": "var_list.r",
     "varRefreshCmd": "cat(var_dic_list()) "
    }
   },
   "types_to_exclude": [
    "module",
    "function",
    "builtin_function_or_method",
    "instance",
    "_Feature"
   ],
   "window_display": true
  }
 },
 "nbformat": 4,
 "nbformat_minor": 2
}
